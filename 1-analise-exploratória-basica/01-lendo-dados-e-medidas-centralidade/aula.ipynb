{
 "cells": [
  {
   "cell_type": "markdown",
   "metadata": {
    "toc": true
   },
   "source": [
    "<h1>Table of Contents<span class=\"tocSkip\"></span></h1>\n",
    "<div class=\"toc\"><ul class=\"toc-item\"><li><span><a href=\"#O-que-é-Análise-exploratória-de-Dados?\" data-toc-modified-id=\"O-que-é-Análise-exploratória-de-Dados?-1\"><span class=\"toc-item-num\">1&nbsp;&nbsp;</span>O que é Análise exploratória de Dados?</a></span><ul class=\"toc-item\"><li><span><a href=\"#Etapas\" data-toc-modified-id=\"Etapas-1.1\"><span class=\"toc-item-num\">1.1&nbsp;&nbsp;</span>Etapas</a></span></li><li><span><a href=\"#Problema:\" data-toc-modified-id=\"Problema:-1.2\"><span class=\"toc-item-num\">1.2&nbsp;&nbsp;</span>Problema:</a></span></li></ul></li><li><span><a href=\"#Abrindo-o-arquivo-e-acessando-os-dados\" data-toc-modified-id=\"Abrindo-o-arquivo-e-acessando-os-dados-2\"><span class=\"toc-item-num\">2&nbsp;&nbsp;</span>Abrindo o arquivo e acessando os dados</a></span></li><li><span><a href=\"#Medidas-de-Centralidade\" data-toc-modified-id=\"Medidas-de-Centralidade-3\"><span class=\"toc-item-num\">3&nbsp;&nbsp;</span>Medidas de Centralidade</a></span><ul class=\"toc-item\"><li><span><a href=\"#Média\" data-toc-modified-id=\"Média-3.1\"><span class=\"toc-item-num\">3.1&nbsp;&nbsp;</span>Média</a></span><ul class=\"toc-item\"><li><span><a href=\"#Fazendo-a-média-com-nosso-arquivo-original\" data-toc-modified-id=\"Fazendo-a-média-com-nosso-arquivo-original-3.1.1\"><span class=\"toc-item-num\">3.1.1&nbsp;&nbsp;</span>Fazendo a média com nosso arquivo original</a></span></li><li><span><a href=\"#Calculando-a-média-de-Salario,-anos-de-estudo-e-idade-no-mesmo-código.\" data-toc-modified-id=\"Calculando-a-média-de-Salario,-anos-de-estudo-e-idade-no-mesmo-código.-3.1.2\"><span class=\"toc-item-num\">3.1.2&nbsp;&nbsp;</span>Calculando a média de Salario, anos de estudo e idade no mesmo código.</a></span></li></ul></li><li><span><a href=\"#Mediana\" data-toc-modified-id=\"Mediana-3.2\"><span class=\"toc-item-num\">3.2&nbsp;&nbsp;</span>Mediana</a></span><ul class=\"toc-item\"><li><span><a href=\"#Função-para-calcular-a-Mediana-com-Dicionarios\" data-toc-modified-id=\"Função-para-calcular-a-Mediana-com-Dicionarios-3.2.1\"><span class=\"toc-item-num\">3.2.1&nbsp;&nbsp;</span>Função para calcular a Mediana com Dicionarios</a></span></li></ul></li><li><span><a href=\"#Moda\" data-toc-modified-id=\"Moda-3.3\"><span class=\"toc-item-num\">3.3&nbsp;&nbsp;</span>Moda</a></span></li></ul></li><li><span><a href=\"#Prévia-da-resposta-para-o-nosso-problema.-As-homens-ganham-mais-do-que-as-mulheres?-Quanto?\" data-toc-modified-id=\"Prévia-da-resposta-para-o-nosso-problema.-As-homens-ganham-mais-do-que-as-mulheres?-Quanto?-4\"><span class=\"toc-item-num\">4&nbsp;&nbsp;</span>Prévia da resposta para o nosso problema. As homens ganham mais do que as mulheres? Quanto?</a></span></li></ul></div>"
   ]
  },
  {
   "cell_type": "markdown",
   "metadata": {},
   "source": [
    "# Data Science\n",
    "\n",
    "\n",
    "-> Método Cientifico:"
   ]
  },
  {
   "cell_type": "code",
   "execution_count": 7,
   "metadata": {},
   "outputs": [
    {
     "data": {
      "text/html": [
       "<iframe width=\"560\" height=\"315\" src=\"https://www.youtube.com/embed/q40uPdnyhp0\" frameborder=\"0\" allow=\"accelerometer; autoplay; encrypted-media; gyroscope; picture-in-picture\" allowfullscreen></iframe>"
      ],
      "text/plain": [
       "<IPython.core.display.HTML object>"
      ]
     },
     "execution_count": 7,
     "metadata": {},
     "output_type": "execute_result"
    }
   ],
   "source": [
    "from IPython.display import HTML\n",
    "\n",
    "HTML('<iframe width=\"560\" height=\"315\" src=\"https://www.youtube.com/embed/q40uPdnyhp0\" frameborder=\"0\" allow=\"accelerometer; autoplay; encrypted-media; gyroscope; picture-in-picture\" allowfullscreen></iframe>')"
   ]
  },
  {
   "cell_type": "markdown",
   "metadata": {},
   "source": [
    "# Análise exploratória de dados\n",
    "\n",
    "<br>\n",
    "<img src=\"img/EDA.jpg\">\n",
    "<br>\n",
    "\n",
    "\n",
    "## O que é Análise exploratória de Dados?\n",
    "\n",
    "Em estatística, a **análise exploratória de dados (AED)** é uma abordagem à análise de conjuntos de dados de modo a resumir suas características principais, frequentemente com métodos visuais. Um modelo estatístico pode ou não ser usado, mas primariamente a AED tem como objetivo observar o que os dados podem nos dizer além da modelagem formal ou do processo de teste de hipóteses. A análise exploratória de dados foi promovida pelo estatístico norte-americano John Tukey, que incentivava os estatísticos a explorar os dados e possivelmente formular hipóteses que poderiam levar a novas coletas de dados e experimentos. A **AED** é diferente da análise inicial de dados (AID), que se concentra mais estreitamente em verificar os pressupostos exigidos para ajuste de modelos e teste de hipóteses, além de manusear valores faltantes e fazer transformações de variáveis conforme necessário. A análise exploratória de dados abrange a AID.\n",
    "\n",
    "A análise exploratória de dados emprega grande variedade de técnicas gráficas e quantitativas, visando maximizar a obtenção de informações ocultas na sua estrutura, descobrir variáveis importantes em suas tendências, detectar comportamentos anômalos do fenômeno, testar se são válidas as hipóteses assumidas, escolher modelos e determinar o número ótimo de variáveis.\n",
    "\n",
    "Os softwares atualmente disponíveis possibilitam que esta técnica se constitua em uma ferramenta para descobrir quais tendências, relações e padrões podem estar ocultos em uma coleção de dados analisados. Seguindo as diretrizes propostas por Tukey, os investigadores deveriam iniciar sua análise pelo exame dos dados disponíveis e depois decidir qual técnica aplicar para resolver o problema. \n",
    "\n",
    "### Etapas\n",
    "\n",
    "(Existe vários frameworks diferentes com essas etapas, e certamenta alguns funcionam melhor que outros dependendo do problema enfrentado. Até mesmo as perguntas mais elementares como \"Entendendo o Problema\" pode ser que não exista em algum caso especifico, então usem como um guia, não como a verdade).\n",
    "\n",
    "Etapas básicas:\n",
    "\n",
    "1. **Entendendo o Problema**. De longe a etapa mais importante e potêncialmente a mais dificil do problema\n",
    "    \n",
    "2. **Entendendo os Dados**. Na aula de hoje focaremos nesta etapa. Faremos um overview sobre os dados e analisaremos as medidas de centralidade.\n",
    "    \n",
    "3. **Analise Univariada**. Na próxima aula iremos um pouco além, entendendo mais a fundo as estatisticas descritivas dos dados.\n",
    "    \n",
    "4. **Outliers, Nulos e outros**. Nessa etapa, trataremos os dados para que façam sentido para os nossos algoritmos.\n",
    "    \n",
    "5. **Analise Multivariada**. Aqui vamos entender como as variaveis estão relacionadas entre si.\n",
    "    \n",
    "6. **Inferências e Relações Causais**. Por último vamos responder nossa pergunta\n",
    "    \n",
    "    \n",
    "    \n",
    "    \n",
    "### Problema:\n",
    "\n",
    "- Muito se fala de desigualdade salarial entre generos. Existe desigualdade? E se sim, de quanto ela é?\n"
   ]
  },
  {
   "cell_type": "markdown",
   "metadata": {},
   "source": [
    "## Abrindo o arquivo e acessando os dados"
   ]
  },
  {
   "cell_type": "code",
   "execution_count": 1,
   "metadata": {},
   "outputs": [
    {
     "name": "stdout",
     "output_type": "stream",
     "text": [
      "<class '_csv.reader'>\n"
     ]
    }
   ],
   "source": [
    "import csv\n",
    "\n",
    "\n",
    "with open(r'data/data.csv', 'r') as data_csv:\n",
    "    data = csv.reader(data_csv)\n",
    "    print(type(data))"
   ]
  },
  {
   "cell_type": "code",
   "execution_count": 2,
   "metadata": {},
   "outputs": [
    {
     "name": "stdout",
     "output_type": "stream",
     "text": [
      "['seq', 'id', 'idade', 'sexo', 'anos_estudo', 'cor/raca', 'salario', 'estado_civil', 'regiao']\n",
      "['0', '11001901101.0', '53', 'homem', '5.0', 'Parda', '63600.0', '1.0', 'norte']\n",
      "['1', '11001901102.0', '49', 'mulher', '8.0', 'Amarela', '', '1.0', 'norte']\n",
      "['2', '11001901103.0', '22', 'mulher', '11.0', 'Indigena', '4352.400390625', '0.0', 'nordeste']\n",
      "['3', '11001903101.0', '55', 'homem', '15.0', 'Amarela', '96600.0', '1.0', 'norte']\n",
      "['4', '11001903102.0', '56', 'mulher', '15.0', 'Amarela', '157800.0', '1.0', 'norte']\n",
      "['5', '11001903103.0', '30', 'mulher', '15.0', 'Amarela', '88550.0', '0.0', 'nordeste']\n",
      "['6', '11001904101.0', '52', 'mulher', '5.0', 'Branca', '6734.400390625', '0.0', 'norte']\n",
      "['7', '11001904104.0', '29', 'homem', '5.0', 'Parda', '14875.20068359375', '0.0', 'norte']\n",
      "['8', '11001904105.0', '29', 'mulher', '11.0', 'Parda', '6734.400390625', '0.0', 'norte']\n"
     ]
    }
   ],
   "source": [
    "\n",
    "with open(r'data/data.csv', 'r') as data_csv:\n",
    "    data = csv.reader(data_csv)\n",
    "    \n",
    "    contador = 0\n",
    "    for row in data:\n",
    "        print(row)\n",
    "        contador = contador + 1\n",
    "        \n",
    "#         print(row[2],row[4],row[6])\n",
    "        if contador == 10:\n",
    "            break"
   ]
  },
  {
   "cell_type": "code",
   "execution_count": 3,
   "metadata": {},
   "outputs": [
    {
     "data": {
      "text/plain": [
       "list"
      ]
     },
     "execution_count": 3,
     "metadata": {},
     "output_type": "execute_result"
    }
   ],
   "source": [
    "type(row)"
   ]
  },
  {
   "cell_type": "code",
   "execution_count": 4,
   "metadata": {},
   "outputs": [
    {
     "data": {
      "text/plain": [
       "str"
      ]
     },
     "execution_count": 4,
     "metadata": {},
     "output_type": "execute_result"
    }
   ],
   "source": [
    "\n",
    "\n",
    "type(row[1])"
   ]
  },
  {
   "cell_type": "markdown",
   "metadata": {},
   "source": [
    "## Medidas de Centralidade\n",
    "\n",
    "### Média\n",
    "\n",
    "\n",
    "*fonte: Wikipedia*\n",
    "\n",
    "Em estatística, média é definida como o valor que mostra para onde se concentram os dados de uma distribuição como o ponto de equilíbrio das frequências em um histograma. Média também é interpretada como um valor significativo de uma lista de números. Os valores de uma lista de números podem ser representados por meio da escolha aleatória de um número. Se todos os números forem iguais, o número escolhido aleatoriamente será a média. Então, a média pode ser calculada por meio da combinação dos números de maneira específica e da geração de um valor significativo. Entretanto, a palavra média é usualmente usada em métodos mais sofisticados como média aritmética, mediana, moda, entre outros.\n",
    "\n",
    "Seguindo uma definição mais informal de \"média\", pode-se assumir que no campo da estatística, dados possuem posições. Por exemplo, cada valor dos lançamentos de um dado possui sua posição em uma planilha eletrônica. Em estatística, média é uma medida de posição que indica um valor uniforme dos dados. Por exemplo, o conjunto x = { 2 , 1 , 6 , 5 , 10 } possui média aritmética 4,8. Embora 4,8 seja o valor médio, ele não é o valor central definido pela mediana.\n",
    "\n",
    "\n",
    "<br>\n",
    "<img src=\"img/media.png\">\n",
    "<br>\n",
    "\n",
    "\n",
    "A **média** é calculada por:\n",
    "\n",
    "$$ \\overline x = \\frac{1}{n} \\sum_i x_i $$\n",
    "\n",
    "Por exemplo, para a mostra 8, 5, 3, -1, e -5, a média é:"
   ]
  },
  {
   "cell_type": "code",
   "execution_count": 5,
   "metadata": {},
   "outputs": [
    {
     "name": "stdout",
     "output_type": "stream",
     "text": [
      "Somando 8 + 0 = 8\n",
      "Somando 5 + 8 = 13\n",
      "Somando 3 + 13 = 16\n",
      "Somando -1 + 16 = 15\n",
      "Somando -5 + 15 = 10\n",
      "\n",
      "média: 2.0\n"
     ]
    }
   ],
   "source": [
    "numbers = [8,5,3,-1,-5]\n",
    "\n",
    "somatorio = 0\n",
    "for number in numbers:\n",
    "    somatorio += number\n",
    "    print(f'Somando {number} + {somatorio-number} = {somatorio}')\n",
    "    \n",
    "media = somatorio/len(numbers)\n",
    "print('\\nmédia:',media)"
   ]
  },
  {
   "cell_type": "markdown",
   "metadata": {},
   "source": [
    "#### Fazendo a média com nosso arquivo original"
   ]
  },
  {
   "cell_type": "code",
   "execution_count": 6,
   "metadata": {
    "scrolled": true
   },
   "outputs": [
    {
     "name": "stdout",
     "output_type": "stream",
     "text": [
      "Média da coluna Idade: 41.67\n"
     ]
    }
   ],
   "source": [
    "with open(r'data/data.csv', 'r') as data_csv:\n",
    "    data = csv.reader(data_csv)\n",
    "    \n",
    "    lista_exemplo = []\n",
    "    somatorio = 0\n",
    "    for i, line in enumerate(data):\n",
    "        if i < 10 and i>0:\n",
    "            somatorio +=  int(line[2])\n",
    "            lista_exemplo.append(line[2])\n",
    "            \n",
    "\n",
    "media = round(somatorio/len(lista_exemplo),2)\n",
    "\n",
    "print(f'Média da coluna Idade: {media}')"
   ]
  },
  {
   "cell_type": "markdown",
   "metadata": {},
   "source": [
    "#### Calculando a média de Salario, anos de estudo e idade no mesmo código."
   ]
  },
  {
   "cell_type": "code",
   "execution_count": 17,
   "metadata": {},
   "outputs": [
    {
     "name": "stdout",
     "output_type": "stream",
     "text": [
      "Média da coluna Idade: 37.63\n",
      "Média da coluna Anos de Estudo: 8.63\n",
      "Média da coluna Salario: 14194.7\n"
     ]
    }
   ],
   "source": [
    "somatorio_idade = 0\n",
    "somatorio_estudo = 0\n",
    "somatorio_salario = 0\n",
    "\n",
    "\n",
    "with open(r'data/data.csv', 'r') as data_csv:\n",
    "    data = csv.reader(data_csv)\n",
    "    \n",
    "    lista_exemplo = []\n",
    "    somatorio = 0\n",
    "    for i, row in enumerate(data):\n",
    "        if i>0:\n",
    "            #print(row)\n",
    "            somatorio_idade += int(row[2])\n",
    "            somatorio_estudo += substitui_nulo_por_zero(row[4])\n",
    "            somatorio_salario += substitui_nulo_por_zero(row[6])\n",
    "            \n",
    "        \n",
    "media_idade = round(somatorio_idade/i,2)\n",
    "media_estudo = round(somatorio_estudo/i,2)\n",
    "media_salario = round(somatorio_salario/i,2)\n",
    "\n",
    "\n",
    "print(f'Média da coluna Idade: {media_idade}')\n",
    "print(f'Média da coluna Anos de Estudo: {media_estudo}')\n",
    "print(f'Média da coluna Salario: {media_salario}')"
   ]
  },
  {
   "cell_type": "code",
   "execution_count": 8,
   "metadata": {},
   "outputs": [],
   "source": [
    "# As linhas NULAS não podem ser convertidas em valores números?\n",
    "# Como resolver ? Podemos criar uma FUNÇÃO que resolve isso?"
   ]
  },
  {
   "cell_type": "code",
   "execution_count": 10,
   "metadata": {},
   "outputs": [],
   "source": [
    "def substitui_nulo_por_zero(entrada):\n",
    "    saida=0\n",
    "    try:\n",
    "        saida = float(entrada)\n",
    "    except:\n",
    "        saida=0\n",
    "    return saida"
   ]
  },
  {
   "cell_type": "code",
   "execution_count": null,
   "metadata": {},
   "outputs": [],
   "source": []
  },
  {
   "cell_type": "code",
   "execution_count": null,
   "metadata": {},
   "outputs": [],
   "source": []
  },
  {
   "cell_type": "code",
   "execution_count": null,
   "metadata": {},
   "outputs": [],
   "source": []
  },
  {
   "cell_type": "code",
   "execution_count": null,
   "metadata": {},
   "outputs": [],
   "source": []
  },
  {
   "cell_type": "markdown",
   "metadata": {},
   "source": [
    "### Mediana\n",
    "\n",
    "\n",
    "\n",
    "Mediana é o valor que separa a metade maior e a metade menor de uma amostra, uma população ou uma distribuição de probabilidade. Em termos mais simples, mediana pode ser o valor do meio de um conjunto de dados. No conjunto de dados {1, 3, 3, 6, 7, 8, 9}, por exemplo, a mediana é 6. Se houver um número par de observações, não há um único valor do meio. Então, a mediana é definida como a média dos dois valores do meio. No conjunto de dados {3, 5, 7, 9}, a mediana é (5 + 7) / 2 = 6.\n",
    "\n",
    "A mediana é uma medida comum das propriedades de conjuntos de dados em estatística e em teoria das probabilidades, com importância central na estatística robusta. A estatística robusta é mais resistente, com ponto de ruptura de 50%. A mediana não fornece resultados arbitrariamente grandes desde que mais da metade dos dados não esteja contaminada.\n",
    "\n",
    "A vantagem da mediana em relação à média é que a mediana pode dar uma ideia melhor de um valor típico porque não é tão distorcida por valores extremamente altos ou baixos. Em estudos estatísticos sobre renda familiar ou outros ativos voláteis, a média pode ser distorcida por um pequeno número de valores extremamente altos ou baixos. \n",
    "\n",
    "Exemplos:\n",
    "\n",
    "- Ímpar:\n",
    "\t\t[1, 2, 3, 5, 7, 8, 9, 10, 15]\n",
    "\t\t#elementos: 9\n",
    "\t\tA mediana é o valor da posição 5 (a posição do “meio”)\n",
    "\t\tMediana =  7\n",
    "        \n",
    "        \n",
    "- Par: \n",
    "\t\t[-5, -1, 0, 1, 2, 3, 8, 20]\n",
    "\t\t#elementos: 8\n",
    "\t\tA mediana é a média dos valores nas duas posições centrais\n",
    "\t\tMediana =  (1+2)/2 = 1.5"
   ]
  },
  {
   "cell_type": "markdown",
   "metadata": {},
   "source": [
    "#### Função para calcular a Mediana com Dicionarios\n",
    "\n",
    "Material complementar para dicionarios python: http://excript.com/python/funcoes-dicionarios.html"
   ]
  },
  {
   "cell_type": "code",
   "execution_count": 18,
   "metadata": {},
   "outputs": [
    {
     "name": "stdout",
     "output_type": "stream",
     "text": [
      "\n",
      " OrderedDict([('seq', '0'), ('id', '11001901101.0'), ('idade', '53'), ('sexo', 'homem'), ('anos_estudo', '5.0'), ('cor/raca', 'Parda'), ('salario', '63600.0'), ('estado_civil', '1.0'), ('regiao', 'norte')])\n",
      "\n",
      " OrderedDict([('seq', '1'), ('id', '11001901102.0'), ('idade', '49'), ('sexo', 'mulher'), ('anos_estudo', '8.0'), ('cor/raca', 'Amarela'), ('salario', ''), ('estado_civil', '1.0'), ('regiao', 'norte')])\n"
     ]
    }
   ],
   "source": [
    "import csv\n",
    "input_file = csv.DictReader(open(r'data/data.csv', 'r') )\n",
    "\n",
    "contador = 0\n",
    "for row in input_file:\n",
    "    contador += 1\n",
    "    if contador <= 2:\n",
    "        print('\\n', row)"
   ]
  },
  {
   "cell_type": "code",
   "execution_count": 8,
   "metadata": {},
   "outputs": [
    {
     "data": {
      "text/plain": [
       "OrderedDict([('seq', '66469'),\n",
       "             ('id', '53117018102.0'),\n",
       "             ('idade', '37'),\n",
       "             ('sexo', 'homem'),\n",
       "             ('anos_estudo', '5.0'),\n",
       "             ('cor/raca', 'Preta'),\n",
       "             ('salario', '460.3500061035156'),\n",
       "             ('estado_civil', '1.0'),\n",
       "             ('regiao', 'centro-oeste')])"
      ]
     },
     "execution_count": 8,
     "metadata": {},
     "output_type": "execute_result"
    }
   ],
   "source": [
    "row"
   ]
  },
  {
   "cell_type": "code",
   "execution_count": 9,
   "metadata": {},
   "outputs": [
    {
     "data": {
      "text/plain": [
       "'37'"
      ]
     },
     "execution_count": 9,
     "metadata": {},
     "output_type": "execute_result"
    }
   ],
   "source": [
    "row['idade']"
   ]
  },
  {
   "cell_type": "code",
   "execution_count": 192,
   "metadata": {},
   "outputs": [
    {
     "data": {
      "text/plain": [
       "'centro-oeste'"
      ]
     },
     "execution_count": 192,
     "metadata": {},
     "output_type": "execute_result"
    }
   ],
   "source": [
    "row['regiao']"
   ]
  },
  {
   "cell_type": "markdown",
   "metadata": {},
   "source": [
    "Criando a tabela como um dicionario"
   ]
  },
  {
   "cell_type": "code",
   "execution_count": 10,
   "metadata": {},
   "outputs": [
    {
     "data": {
      "text/plain": [
       "OrderedDict([('seq', '66469'),\n",
       "             ('id', '53117018102.0'),\n",
       "             ('idade', '37'),\n",
       "             ('sexo', 'homem'),\n",
       "             ('anos_estudo', '5.0'),\n",
       "             ('cor/raca', 'Preta'),\n",
       "             ('salario', '460.3500061035156'),\n",
       "             ('estado_civil', '1.0'),\n",
       "             ('regiao', 'centro-oeste')])"
      ]
     },
     "execution_count": 10,
     "metadata": {},
     "output_type": "execute_result"
    }
   ],
   "source": [
    "row"
   ]
  },
  {
   "cell_type": "code",
   "execution_count": 23,
   "metadata": {},
   "outputs": [],
   "source": [
    "dict_table = dict()\n",
    "dict_table = {}\n",
    "\n",
    "with open(r'data/data.csv', 'r') as data_csv:\n",
    "    data = csv.reader(data_csv)\n",
    "    header = next(data, None)\n",
    "    \n",
    "    for row in data:    \n",
    "        dict_table[row[1]] = {'idade':row[2], 'sexo':row[3], 'anos_estudo':row[4], 'salario': row[6]}"
   ]
  },
  {
   "cell_type": "code",
   "execution_count": 54,
   "metadata": {},
   "outputs": [
    {
     "data": {
      "text/plain": [
       "<_csv.reader at 0x7fcfdc4ed2e8>"
      ]
     },
     "execution_count": 54,
     "metadata": {},
     "output_type": "execute_result"
    }
   ],
   "source": [
    "data"
   ]
  },
  {
   "cell_type": "code",
   "execution_count": 70,
   "metadata": {},
   "outputs": [
    {
     "data": {
      "text/plain": [
       "{'idade': '53', 'sexo': 'homem', 'anos_estudo': '5.0', 'salario': '7128.0'}"
      ]
     },
     "execution_count": 70,
     "metadata": {},
     "output_type": "execute_result"
    }
   ],
   "source": [
    "dict_table['11027211101.0']"
   ]
  },
  {
   "cell_type": "code",
   "execution_count": 26,
   "metadata": {},
   "outputs": [
    {
     "data": {
      "text/plain": [
       "'6'"
      ]
     },
     "execution_count": 26,
     "metadata": {},
     "output_type": "execute_result"
    }
   ],
   "source": [
    "dict_table['11027211101.0']['anos_estudo']"
   ]
  },
  {
   "cell_type": "code",
   "execution_count": 25,
   "metadata": {},
   "outputs": [],
   "source": [
    "dict_table['11027211101.0']['anos_estudo'] = '6'"
   ]
  },
  {
   "cell_type": "code",
   "execution_count": 27,
   "metadata": {},
   "outputs": [
    {
     "data": {
      "text/plain": [
       "{'idade': '53', 'sexo': 'homem', 'anos_estudo': '6', 'salario': '7128.0'}"
      ]
     },
     "execution_count": 27,
     "metadata": {},
     "output_type": "execute_result"
    }
   ],
   "source": [
    "dict_table['11027211101.0']"
   ]
  },
  {
   "cell_type": "code",
   "execution_count": 28,
   "metadata": {},
   "outputs": [],
   "source": [
    "del dict_table['11027211101.0']"
   ]
  },
  {
   "cell_type": "code",
   "execution_count": 64,
   "metadata": {},
   "outputs": [
    {
     "data": {
      "text/plain": [
       "[('a', 1), ('c', 1), ('d', 1), ('i', 1), ('o', 1), ('r', 2)]"
      ]
     },
     "execution_count": 64,
     "metadata": {},
     "output_type": "execute_result"
    }
   ],
   "source": [
    "sorted(create_text_histogram('ricardo').items())\n",
    "\n"
   ]
  },
  {
   "cell_type": "code",
   "execution_count": 19,
   "metadata": {},
   "outputs": [],
   "source": [
    "def create_text_histogram(txt):\n",
    "    dictionary = {}\n",
    "    i=0\n",
    "    for x in set(txt): # função set\n",
    "        dictionary[x] = txt.count(x)\n",
    "    return dictionary"
   ]
  },
  {
   "cell_type": "code",
   "execution_count": 20,
   "metadata": {},
   "outputs": [
    {
     "data": {
      "text/plain": [
       "[(' ', 5),\n",
       " ('a', 6),\n",
       " ('c', 1),\n",
       " ('d', 2),\n",
       " ('e', 4),\n",
       " ('f', 1),\n",
       " ('g', 1),\n",
       " ('h', 1),\n",
       " ('i', 2),\n",
       " ('m', 2),\n",
       " ('o', 2),\n",
       " ('p', 2),\n",
       " ('r', 4),\n",
       " ('s', 3),\n",
       " ('t', 3)]"
      ]
     },
     "execution_count": 20,
     "metadata": {},
     "output_type": "execute_result"
    }
   ],
   "source": [
    "sorted(create_text_histogram(txt='teste de frase comprida para histograma').items())\n"
   ]
  },
  {
   "cell_type": "code",
   "execution_count": 21,
   "metadata": {},
   "outputs": [],
   "source": [
    "contagem_idades = {}\n",
    "\n",
    "with open(r'data/data.csv', 'r') as data_csv:\n",
    "    data = csv.reader(data_csv)\n",
    "    header = next(data, None)\n",
    "    \n",
    "    idades = []\n",
    "    for row in data:\n",
    "        idades.append(row[2])\n",
    "        "
   ]
  },
  {
   "cell_type": "code",
   "execution_count": 22,
   "metadata": {},
   "outputs": [],
   "source": [
    "histograma_idades = create_text_histogram(idades)"
   ]
  },
  {
   "cell_type": "code",
   "execution_count": 23,
   "metadata": {},
   "outputs": [
    {
     "data": {
      "text/plain": [
       "dict"
      ]
     },
     "execution_count": 23,
     "metadata": {},
     "output_type": "execute_result"
    }
   ],
   "source": [
    "type(histograma_idades)"
   ]
  },
  {
   "cell_type": "code",
   "execution_count": 24,
   "metadata": {},
   "outputs": [
    {
     "data": {
      "text/plain": [
       "{'22': 2034,\n",
       " '49': 1429,\n",
       " '29': 1943,\n",
       " '31': 1796,\n",
       " '56': 1087,\n",
       " '55': 1133,\n",
       " '42': 1673,\n",
       " '27': 2017,\n",
       " '26': 2040,\n",
       " '23': 2014,\n",
       " '54': 1221,\n",
       " '48': 1505,\n",
       " '39': 1759,\n",
       " '53': 1249,\n",
       " '57': 1092,\n",
       " '33': 1812,\n",
       " '24': 1892,\n",
       " '43': 1699,\n",
       " '40': 1732,\n",
       " '59': 999,\n",
       " '37': 1712,\n",
       " '34': 1737,\n",
       " '50': 1461,\n",
       " '32': 1852,\n",
       " '46': 1566,\n",
       " '20': 2104,\n",
       " '25': 2014,\n",
       " '35': 1672,\n",
       " '44': 1688,\n",
       " '21': 1987,\n",
       " '28': 2056,\n",
       " '52': 1244,\n",
       " '41': 1552,\n",
       " '30': 1996,\n",
       " '38': 1727,\n",
       " '47': 1446,\n",
       " '60': 951,\n",
       " '51': 1260,\n",
       " '36': 1723,\n",
       " '58': 969,\n",
       " '45': 1627}"
      ]
     },
     "execution_count": 24,
     "metadata": {},
     "output_type": "execute_result"
    }
   ],
   "source": [
    "histograma_idades"
   ]
  },
  {
   "cell_type": "code",
   "execution_count": 25,
   "metadata": {},
   "outputs": [
    {
     "data": {
      "text/plain": [
       "dict_keys(['22', '49', '29', '31', '56', '55', '42', '27', '26', '23', '54', '48', '39', '53', '57', '33', '24', '43', '40', '59', '37', '34', '50', '32', '46', '20', '25', '35', '44', '21', '28', '52', '41', '30', '38', '47', '60', '51', '36', '58', '45'])"
      ]
     },
     "execution_count": 25,
     "metadata": {},
     "output_type": "execute_result"
    }
   ],
   "source": [
    "histograma_idades.keys()"
   ]
  },
  {
   "cell_type": "code",
   "execution_count": 26,
   "metadata": {},
   "outputs": [
    {
     "data": {
      "text/plain": [
       "dict_values([2034, 1429, 1943, 1796, 1087, 1133, 1673, 2017, 2040, 2014, 1221, 1505, 1759, 1249, 1092, 1812, 1892, 1699, 1732, 999, 1712, 1737, 1461, 1852, 1566, 2104, 2014, 1672, 1688, 1987, 2056, 1244, 1552, 1996, 1727, 1446, 951, 1260, 1723, 969, 1627])"
      ]
     },
     "execution_count": 26,
     "metadata": {},
     "output_type": "execute_result"
    }
   ],
   "source": [
    "histograma_idades.values()"
   ]
  },
  {
   "cell_type": "code",
   "execution_count": 27,
   "metadata": {},
   "outputs": [
    {
     "data": {
      "text/plain": [
       "dict_items([('22', 2034), ('49', 1429), ('29', 1943), ('31', 1796), ('56', 1087), ('55', 1133), ('42', 1673), ('27', 2017), ('26', 2040), ('23', 2014), ('54', 1221), ('48', 1505), ('39', 1759), ('53', 1249), ('57', 1092), ('33', 1812), ('24', 1892), ('43', 1699), ('40', 1732), ('59', 999), ('37', 1712), ('34', 1737), ('50', 1461), ('32', 1852), ('46', 1566), ('20', 2104), ('25', 2014), ('35', 1672), ('44', 1688), ('21', 1987), ('28', 2056), ('52', 1244), ('41', 1552), ('30', 1996), ('38', 1727), ('47', 1446), ('60', 951), ('51', 1260), ('36', 1723), ('58', 969), ('45', 1627)])"
      ]
     },
     "execution_count": 27,
     "metadata": {},
     "output_type": "execute_result"
    }
   ],
   "source": [
    "histograma_idades.items()"
   ]
  },
  {
   "cell_type": "code",
   "execution_count": 28,
   "metadata": {},
   "outputs": [
    {
     "name": "stdout",
     "output_type": "stream",
     "text": [
      "20: 2104\n",
      "21: 1987\n",
      "22: 2034\n",
      "23: 2014\n",
      "24: 1892\n",
      "25: 2014\n",
      "26: 2040\n",
      "27: 2017\n",
      "28: 2056\n",
      "29: 1943\n",
      "30: 1996\n",
      "31: 1796\n",
      "32: 1852\n",
      "33: 1812\n",
      "34: 1737\n",
      "35: 1672\n",
      "36: 1723\n",
      "37: 1712\n",
      "38: 1727\n",
      "39: 1759\n",
      "40: 1732\n",
      "41: 1552\n",
      "42: 1673\n",
      "43: 1699\n",
      "44: 1688\n",
      "45: 1627\n",
      "46: 1566\n",
      "47: 1446\n",
      "48: 1505\n",
      "49: 1429\n",
      "50: 1461\n",
      "51: 1260\n",
      "52: 1244\n",
      "53: 1249\n",
      "54: 1221\n",
      "55: 1133\n",
      "56: 1087\n",
      "57: 1092\n",
      "58: 969\n",
      "59: 999\n",
      "60: 951\n"
     ]
    }
   ],
   "source": [
    "for key in sorted(histograma_idades.keys()):\n",
    "    print(\"%s: %s\" % (key, histograma_idades[key]))"
   ]
  },
  {
   "cell_type": "code",
   "execution_count": null,
   "metadata": {},
   "outputs": [],
   "source": []
  },
  {
   "cell_type": "code",
   "execution_count": null,
   "metadata": {},
   "outputs": [],
   "source": []
  },
  {
   "cell_type": "code",
   "execution_count": null,
   "metadata": {},
   "outputs": [],
   "source": []
  },
  {
   "cell_type": "code",
   "execution_count": 28,
   "metadata": {},
   "outputs": [],
   "source": []
  },
  {
   "cell_type": "code",
   "execution_count": null,
   "metadata": {},
   "outputs": [],
   "source": []
  },
  {
   "cell_type": "code",
   "execution_count": null,
   "metadata": {},
   "outputs": [],
   "source": []
  },
  {
   "cell_type": "markdown",
   "metadata": {},
   "source": [
    "### Moda\n",
    "\n",
    "\n",
    "Em estatística, moda é uma das medidas de tendência central de um conjunto de dados, assim como a média e a mediana. Ela pode ser definida em moda amostral e populacional.\n",
    "\n",
    "Em relação à primeira delas, a moda amostral de um conjunto de dados trata do valor que ocorre com maior frequência ou o valor mais comum em um conjunto de dados. Moda é especialmente útil quando os valores ou as observações não são numéricos, casos em que a média e a mediana não podem ser definidas. \n",
    "\n",
    "Moda amostral não é necessariamente única como média ou mediana. Amostras que possuem uma moda são chamadas unimodais. Por exemplo, a amostra {1, 2, 3, 5, 5, 6, 7} tem moda 5. Amostras que possuem duas modas são chamadas bimodais. Por exemplo, a amostra {1, 2, 3, 5, 5, 6, 6} tem modas 5 e 6. Amostras que possuem várias modas são chamadas multimodais. Por exemplo, a amostra {1, 2 3, 5, 5, 6, 6, 7, 7} tem modas 5, 6 e 7. Amostras que não possuem moda são chamadas amodais. Por exemplo, a amostra {1, 3, 2, 5, 7, 6} não tem moda. \n",
    "\n",
    "Por exemplo, a moda de [0,1,1,2,2,2,2,3,3,4,4,4,5] é 2.\n",
    "\n",
    "A moda não é necessariamente única. Pode ser que existam dois valores diferentes que sejam os mais frequentes. Por exemplo, no caso de [10, 13, 13, 20, 20], tanto 13 como 20 são a moda.\n",
    "\n",
    "<br>\n",
    "<img src=\"img/moda2.png\">\n",
    "<br>"
   ]
  },
  {
   "cell_type": "markdown",
   "metadata": {},
   "source": [
    "Vamos criar um looping para procurar a pessoa mais velha da base"
   ]
  },
  {
   "cell_type": "code",
   "execution_count": 29,
   "metadata": {},
   "outputs": [
    {
     "name": "stdout",
     "output_type": "stream",
     "text": [
      "A pessoa mais velha na base é o id 11002710101.0, que tem 60 anos.\n"
     ]
    }
   ],
   "source": [
    "max_age = None\n",
    "oldest_person = None\n",
    "\n",
    "input_file = csv.DictReader(open(r'data/data.csv', 'r'))\n",
    "\n",
    "for row in input_file:\n",
    "    age = int(row[\"idade\"])\n",
    "    if max_age == None or max_age < age:\n",
    "        max_age = age\n",
    "        oldest_person = row[\"id\"]\n",
    "\n",
    "if max_age != None:\n",
    "    print(\"A pessoa mais velha na base é o id %s, que tem %d anos.\" % (oldest_person, max_age))\n",
    "else:\n",
    "    print(\"Não tem ninguém nesse arquivo\")"
   ]
  },
  {
   "cell_type": "code",
   "execution_count": null,
   "metadata": {},
   "outputs": [],
   "source": []
  },
  {
   "cell_type": "code",
   "execution_count": null,
   "metadata": {},
   "outputs": [],
   "source": []
  },
  {
   "cell_type": "code",
   "execution_count": null,
   "metadata": {},
   "outputs": [],
   "source": []
  },
  {
   "cell_type": "code",
   "execution_count": null,
   "metadata": {},
   "outputs": [],
   "source": []
  },
  {
   "cell_type": "markdown",
   "metadata": {},
   "source": [
    "## Prévia da resposta para o nosso problema. As homens ganham mais do que as mulheres? Quanto?"
   ]
  },
  {
   "cell_type": "code",
   "execution_count": 30,
   "metadata": {},
   "outputs": [],
   "source": [
    "def get_float(value):\n",
    "    try: return float(value)\n",
    "    except: return 0"
   ]
  },
  {
   "cell_type": "code",
   "execution_count": 31,
   "metadata": {},
   "outputs": [],
   "source": [
    "def calcula_media(lista, field):    \n",
    "    soma = 0.0\n",
    "    for item in lista: soma += get_float(item[field])\n",
    "    return soma / len(lista)"
   ]
  },
  {
   "cell_type": "code",
   "execution_count": 32,
   "metadata": {},
   "outputs": [
    {
     "name": "stdout",
     "output_type": "stream",
     "text": [
      "media Total:     14194.700\n",
      "media Mulheres:   9258.330\n",
      "media Homens:    19282.288\n"
     ]
    }
   ],
   "source": [
    "import csv        \n",
    "#'seq', 'id', 'idade', 'sexo', 'anos_estudo', 'cor/raca', 'salario', 'estado_civil', 'regiao'\n",
    "with open(r'data/data.csv','r') as file: \n",
    "    dados =  csv.DictReader(file)\n",
    "    print('media Total:    %10.3f' % (calcula_media([i for i in dados], 'salario')))\n",
    "with open(r'data/data.csv','r') as file:\n",
    "    dados =  csv.DictReader(file)\n",
    "    print('media Mulheres: %10.3f' % (calcula_media([i for i in dados if i['sexo'] == 'mulher'], 'salario')))\n",
    "with open(r'data/data.csv','r') as file:\n",
    "    dados =  csv.DictReader(file)\n",
    "    print('media Homens:   %10.3f' % (calcula_media([i for i in dados if i['sexo'] == 'homem'], 'salario')))\n"
   ]
  },
  {
   "cell_type": "code",
   "execution_count": 33,
   "metadata": {},
   "outputs": [],
   "source": [
    "def calcula_mediana(lista):\n",
    "    lista.sort()\n",
    "    inicio = fim = int(len(lista)/2)+1\n",
    "    inicio -= (2 if len(lista)%2==0  else 1)\n",
    "    mediana_list = lista[inicio:fim]\n",
    "    return (mediana_list[0]) if len(mediana_list)==1 else ( (mediana_list[0]+ mediana_list[1])/2)"
   ]
  },
  {
   "cell_type": "code",
   "execution_count": 34,
   "metadata": {},
   "outputs": [
    {
     "name": "stdout",
     "output_type": "stream",
     "text": [
      "mediana Total:      4860.000\n",
      "mediana Mulheres:   1008.000\n",
      "mediana Homens:     7130.000\n"
     ]
    }
   ],
   "source": [
    "import csv        \n",
    "#'seq', 'id', 'idade', 'sexo', 'anos_estudo', 'cor/raca', 'salario', 'estado_civil', 'regiao'\n",
    "with open(r'data/data.csv','r') as file:\n",
    "    dados =  csv.DictReader(file)\n",
    "    print('mediana Total:    %10.3f' % (calcula_mediana([get_float(i['salario']) for i in dados])))\n",
    "with open(r'data/data.csv','r') as file:\n",
    "    dados =  csv.DictReader(file)\n",
    "    print('mediana Mulheres: %10.3f' % (calcula_mediana([get_float(i['salario']) for i in dados if i['sexo'] == 'mulher'])))\n",
    "with open(r'data/data.csv','r') as file:\n",
    "    dados =  csv.DictReader(file)\n",
    "    print('mediana Homens:   %10.3f' % (calcula_mediana([get_float(i['salario']) for i in dados if i['sexo'] == 'homem'])))\n",
    "    "
   ]
  },
  {
   "cell_type": "code",
   "execution_count": 323,
   "metadata": {},
   "outputs": [
    {
     "name": "stdout",
     "output_type": "stream",
     "text": [
      "Moda Total:       999999.00\n",
      "Moda Homens:      999999.00\n",
      "Moda Mulheres:    999999.00\n"
     ]
    }
   ],
   "source": [
    "import csv        \n",
    "#'seq', 'id', 'idade', 'sexo', 'anos_estudo', 'cor/raca', 'salario', 'estado_civil', 'regiao'\n",
    "max_todos = max_mulheres=max_homens = 0.0\n",
    "\n",
    "with open(r'data/data.csv','r') as file:\n",
    "    dados =  csv.DictReader(file)\n",
    "    for row in dados:\n",
    "        salario = get_float(row['salario'])\n",
    "        if(max_todos == None or max_todos < salario):\n",
    "            max_todos = salario\n",
    "        if(row['sexo'] =='homem' and (max_homens == None or max_homens < salario)):\n",
    "            max_homens = salario\n",
    "        if(row['sexo'] =='mulher' and (max_mulheres == None or max_mulheres < salario)):\n",
    "            max_mulheres = salario\n",
    "print('Moda Total:    %12.2f' % max_todos)\n",
    "print('Moda Homens:   %12.2f' % max_homens)\n",
    "print('Moda Mulheres: %12.2f' % max_mulheres)"
   ]
  }
 ],
 "metadata": {
  "hide_input": false,
  "kernelspec": {
   "display_name": "Python 3",
   "language": "python",
   "name": "python3"
  },
  "language_info": {
   "codemirror_mode": {
    "name": "ipython",
    "version": 3
   },
   "file_extension": ".py",
   "mimetype": "text/x-python",
   "name": "python",
   "nbconvert_exporter": "python",
   "pygments_lexer": "ipython3",
   "version": "3.7.1"
  },
  "toc": {
   "base_numbering": 1,
   "nav_menu": {
    "height": "417px",
    "width": "637px"
   },
   "number_sections": true,
   "sideBar": true,
   "skip_h1_title": true,
   "title_cell": "Table of Contents",
   "title_sidebar": "Contents",
   "toc_cell": true,
   "toc_position": {
    "height": "calc(100% - 180px)",
    "left": "10px",
    "top": "150px",
    "width": "296.758px"
   },
   "toc_section_display": true,
   "toc_window_display": true
  },
  "widgets": {
   "application/vnd.jupyter.widget-state+json": {
    "state": {},
    "version_major": 2,
    "version_minor": 0
   }
  }
 },
 "nbformat": 4,
 "nbformat_minor": 2
}
